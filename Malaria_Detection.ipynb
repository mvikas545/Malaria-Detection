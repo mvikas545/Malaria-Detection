{
  "nbformat": 4,
  "nbformat_minor": 0,
  "metadata": {
    "kernelspec": {
      "name": "python3",
      "display_name": "Python 3"
    },
    "language_info": {
      "codemirror_mode": {
        "name": "ipython",
        "version": 3
      },
      "file_extension": ".py",
      "mimetype": "text/x-python",
      "name": "python",
      "nbconvert_exporter": "python",
      "pygments_lexer": "ipython3",
      "version": "3.7.3"
    },
    "colab": {
      "name": " Malaria_Detection.ipynb",
      "provenance": [],
      "collapsed_sections": [],
      "toc_visible": true
    },
    "accelerator": "GPU"
  },
  "cells": [
    {
      "cell_type": "markdown",
      "metadata": {
        "id": "5BEZVN7QACqx",
        "colab_type": "text"
      },
      "source": [
        "#  **Malaria Detection**)\n",
        "\n",
        "---\n",
        "\n",
        "\n",
        "\n",
        "---\n",
        "\n",
        "\n",
        "\n",
        "\n"
      ]
    },
    {
      "cell_type": "markdown",
      "metadata": {
        "id": "2-dpBDN4u-fv",
        "colab_type": "text"
      },
      "source": [
        "Malaria is a female anopheles’ mosquito-bite inflicted life-threatening disease which\n",
        "is considered endemic in many parts of the world. This notebook focuses on improving\n",
        "malaria detection from patches segmented from microscopic images of red blood cell\n",
        "smears by introducing a deep convolutional neural network.\n",
        "\n",
        "\n",
        "\n",
        "The dataset used in this study was taken from National Institute\n",
        "of Health named [NIH Malaria Dataset](https://lhncbc.nlm.nih.gov/publication/pub9932).The dataset is published by Rajaraman S, Antani SK, Poostchi M, Silamut K, Hossain MA, Maude, RJ, Jaeger S, Thoma GR.\n",
        "\n",
        "\n",
        "The dataset consists of 27,588 images belonging to two separate classes:\n",
        "\n",
        "\n",
        "**Parasitized**: Implying that the region contains malaria.\n",
        "\n",
        "**Uninfected**: Meaning there is no evidence of malaria in the region.\n",
        "The number of images per class is equally distributed with 13,794 images per each respective class.\n",
        "\n",
        "\n"
      ]
    },
    {
      "cell_type": "markdown",
      "metadata": {
        "id": "bGr5GW51CuO5",
        "colab_type": "text"
      },
      "source": [
        "# Setup"
      ]
    },
    {
      "cell_type": "code",
      "metadata": {
        "id": "-1GRySjlE1LM",
        "colab_type": "code",
        "colab": {}
      },
      "source": [
        "\n",
        "import numpy as np\n",
        "import tensorflow as tf\n",
        "from tensorflow import keras\n",
        "from tensorflow.keras.layers import Dense,Dropout,BatchNormalization,Conv2D,MaxPooling2D\n",
        "import os\n",
        "import pandas as pd\n",
        "from keras.callbacks import ModelCheckpoint,EarlyStopping\n",
        "import matplotlib.pyplot as plt\n",
        "from keras.applications.vgg16 import VGG16\n",
        "from keras.models import Sequential\n",
        "from keras import layers\n",
        "from keras.preprocessing.image import ImageDataGenerator\n",
        "from keras import optimizers\n",
        "from tensorflow.keras.models import load_model\n",
        "from sklearn.metrics import classification_report,confusion_matrix,plot_confusion_matrix\n",
        "%matplotlib inline"
      ],
      "execution_count": 0,
      "outputs": []
    },
    {
      "cell_type": "code",
      "metadata": {
        "id": "rR1KRdJ4GpQ_",
        "colab_type": "code",
        "outputId": "3df115de-f4c8-4ff3-8acc-8c853677cb79",
        "colab": {
          "base_uri": "https://localhost:8080/",
          "height": 128
        }
      },
      "source": [
        "from google.colab import drive\n",
        "drive.mount('/content/drive')"
      ],
      "execution_count": 0,
      "outputs": [
        {
          "output_type": "stream",
          "text": [
            "Go to this URL in a browser: https://accounts.google.com/o/oauth2/auth?client_id=947318989803-6bn6qk8qdgf4n4g3pfee6491hc0brc4i.apps.googleusercontent.com&redirect_uri=urn%3aietf%3awg%3aoauth%3a2.0%3aoob&response_type=code&scope=email%20https%3a%2f%2fwww.googleapis.com%2fauth%2fdocs.test%20https%3a%2f%2fwww.googleapis.com%2fauth%2fdrive%20https%3a%2f%2fwww.googleapis.com%2fauth%2fdrive.photos.readonly%20https%3a%2f%2fwww.googleapis.com%2fauth%2fpeopleapi.readonly\n",
            "\n",
            "Enter your authorization code:\n",
            "··········\n",
            "Mounted at /content/drive\n"
          ],
          "name": "stdout"
        }
      ]
    },
    {
      "cell_type": "code",
      "metadata": {
        "id": "maikPa-wCC2Y",
        "colab_type": "code",
        "colab": {}
      },
      "source": [
        "train_dir='/content/drive/My Drive/train'\n",
        "test_dir='/content/drive/My Drive/test'\n",
        "val_dir='/content/drive/My Drive/val'"
      ],
      "execution_count": 0,
      "outputs": []
    },
    {
      "cell_type": "markdown",
      "metadata": {
        "id": "Z7D4XCcECbSE",
        "colab_type": "text"
      },
      "source": [
        "# Define Required Functions"
      ]
    },
    {
      "cell_type": "code",
      "metadata": {
        "id": "1AulrK7CE1NT",
        "colab_type": "code",
        "colab": {}
      },
      "source": [
        "def create_model():\n",
        "  #Conv Layers\n",
        "  conv_base=VGG16(weights='imagenet',\n",
        "               include_top=False,\n",
        "               input_shape=(224,224,3))\n",
        "\n",
        "  model=Sequential([(conv_base),\n",
        "                  layers.Flatten(),\n",
        "                  layers.Dense(2,activation='softmax')])\n",
        "  #Set Untrainable layer\n",
        "  print(\"Trainable_weight: \",len(model.trainable_weights))\n",
        "\n",
        "  conv_base.trainable=True\n",
        "  set_trainable=False\n",
        "  for layer in conv_base.layers:\n",
        "    if layer.name=='block5_conv1':\n",
        "      set_trainable=True\n",
        "    if set_trainable:\n",
        "      layer.trainable=True\n",
        "    else:\n",
        "      layer.trainable=False\n",
        "  \n",
        "  print(\"After Frezing-\")\n",
        "\n",
        "  print(\"Trainable_weight: \",len(model.trainable_weights))\n",
        "  return model\n",
        "\n",
        "#Train function\n",
        "\n",
        "def Train_model(model,train_generator,val_generator,batch_size,n_train,n_val):\n",
        "  #Compile\n",
        "  model.compile(loss=\"categorical_crossentropy\",\n",
        "              optimizer=optimizers.Adam(lr=0.001),\n",
        "              metrics=['acc'])\n",
        "  #checkpoint\n",
        "  filepath='/content/drive/My Drive/FaceRecognition/Malaria_weights-finetune-{epoch:02d}-{val_loss:.3f}.hdf5'\n",
        "  checkpoint=ModelCheckpoint(filepath,monitor='val_loss',save_best_only=True,mode='min',verbose=1)\n",
        "  callbacks_list=[checkpoint,EarlyStopping(monitor='val_loss',patience=6)]\n",
        " \n",
        "  history=model.fit_generator(train_generator,\n",
        "                            steps_per_epoch=n_train//batch_size,\n",
        "                            epochs=50,\n",
        "                            validation_data=val_generator,\n",
        "                            validation_steps=n_val//batch_size,\n",
        "                            callbacks=callbacks_list)\n",
        "  return history\n",
        "\n",
        "#Plot learningCurve function\n",
        "\n",
        "def plot_LearningCurve(history):\n",
        "    x=history.history['acc']\n",
        "    y=history.history['val_acc']\n",
        "    s=history.history['loss']\n",
        "    t=history.history['val_loss']\n",
        "\n",
        "    epochs=range(1,len(x)+1)\n",
        "    plt.plot(epochs,x,label=\"Training_acc\",linewidth=2)\n",
        "    plt.plot(epochs,y,label=\"Val_acc\",linewidth=2)\n",
        "    plt.title('Training And Validation Accuracy')\n",
        "    plt.xlabel(\"Epoch\")\n",
        "    plt.ylabel(\"Accuracy\")\n",
        "    plt.grid(True)\n",
        "    plt.legend()\n",
        "    #plt.axis([0,22,0,1])\n",
        "    plt.figure()\n",
        "    plt.plot(epochs,s,label=\"Training_loss\",linewidth=2)\n",
        "    plt.plot(epochs,t,label=\"Val_loss\",linewidth=2)\n",
        "    plt.title('Training And Validation Loss')\n",
        "    plt.xlabel(\"Epoch\")\n",
        "    plt.ylabel(\"Loss\")\n",
        "    plt.grid(True)\n",
        "    plt.legend()\n",
        "    #plt.axis([0,22,0,1])\n",
        "    plt.show()\n",
        "\n",
        "#Generator function\n",
        "\n",
        "def generator(directory,batch_size,class_mode,img_size):\n",
        "  datagen=ImageDataGenerator(rescale=1./255)\n",
        "  generator=datagen.flow_from_directory(directory,\n",
        "                                        target_size=(img_size,img_size),\n",
        "                                        batch_size=batch_size,\n",
        "                                        class_mode=class_mode)\n",
        "  return generator\n",
        "\n",
        "#Generator with Augmentation\n",
        "\n",
        "def generator_with_augmentation(directory,batch_size,class_mode,img_size):\n",
        "  datagen=ImageDataGenerator(rescale=1./255,\n",
        "                             rotation_range=50,\n",
        "                             width_shift_range=0.2,\n",
        "                             height_shift_range=0.2,\n",
        "                             shear_range=0.25,\n",
        "                             zoom_range=0.25,\n",
        "                             horizontal_flip=True)\n",
        "  generator=datagen.flow_from_directory(directory,\n",
        "                                        target_size=(img_size,img_size),\n",
        "                                        batch_size=batch_size,\n",
        "                                        class_mode=class_mode)\n",
        "  return generator"
      ],
      "execution_count": 0,
      "outputs": []
    },
    {
      "cell_type": "code",
      "metadata": {
        "id": "39oypF7TE1No",
        "colab_type": "code",
        "outputId": "4700ddaf-02b9-4b44-8309-98d143d91749",
        "colab": {
          "base_uri": "https://localhost:8080/",
          "height": 72
        }
      },
      "source": [
        "batch_size=64\n",
        "class_mode='categorical'\n",
        "img_size=224\n",
        "n_train=16534\n",
        "n_val=5512\n",
        "n_test=5512\n",
        "val_gen=generator(val_dir,batch_size,class_mode,img_size)\n",
        "train_gen=generator_with_augmentation(train_dir,batch_size,class_mode,img_size)\n",
        "test_gen=generator(test_dir,batch_size,class_mode,img_size)"
      ],
      "execution_count": 0,
      "outputs": [
        {
          "output_type": "stream",
          "text": [
            "Found 5512 images belonging to 2 classes.\n",
            "Found 16534 images belonging to 2 classes.\n",
            "Found 5512 images belonging to 2 classes.\n"
          ],
          "name": "stdout"
        }
      ]
    },
    {
      "cell_type": "markdown",
      "metadata": {
        "id": "omi80tVODA5u",
        "colab_type": "text"
      },
      "source": [
        "# Classifier"
      ]
    },
    {
      "cell_type": "code",
      "metadata": {
        "id": "QEUKRRASATXi",
        "colab_type": "code",
        "outputId": "5d213551-53fb-4907-a8af-8c9bd718540c",
        "colab": {
          "base_uri": "https://localhost:8080/",
          "height": 326
        }
      },
      "source": [
        "new_model=create_model()\n",
        "new_model.summary()"
      ],
      "execution_count": 0,
      "outputs": [
        {
          "output_type": "stream",
          "text": [
            "Trainable_weight:  28\n",
            "After Frezing-\n",
            "Trainable_weight:  8\n",
            "Model: \"sequential_12\"\n",
            "_________________________________________________________________\n",
            "Layer (type)                 Output Shape              Param #   \n",
            "=================================================================\n",
            "vgg16 (Model)                (None, 7, 7, 512)         14714688  \n",
            "_________________________________________________________________\n",
            "flatten_12 (Flatten)         (None, 25088)             0         \n",
            "_________________________________________________________________\n",
            "dense_24 (Dense)             (None, 2)                 50178     \n",
            "=================================================================\n",
            "Total params: 14,764,866\n",
            "Trainable params: 7,129,602\n",
            "Non-trainable params: 7,635,264\n",
            "_________________________________________________________________\n"
          ],
          "name": "stdout"
        }
      ]
    },
    {
      "cell_type": "code",
      "metadata": {
        "id": "xbOQdbHTf67k",
        "colab_type": "code",
        "outputId": "dbcb6899-8002-47db-8bc7-eb70919935a6",
        "colab": {
          "base_uri": "https://localhost:8080/",
          "height": 1000
        }
      },
      "source": [
        "history=Train_model(new_model,train_gen,val_gen,batch_size,n_train,n_val)"
      ],
      "execution_count": 0,
      "outputs": [
        {
          "output_type": "stream",
          "text": [
            "Epoch 1/50\n",
            "258/258 [==============================] - 223s 863ms/step - loss: 0.4011 - acc: 0.8582 - val_loss: 0.2353 - val_acc: 0.9320\n",
            "\n",
            "Epoch 00001: val_loss improved from inf to 0.23529, saving model to /content/drive/My Drive/FaceRecognition/Malaria_weights-finetune-01-0.235.hdf5\n",
            "Epoch 2/50\n",
            "258/258 [==============================] - 220s 853ms/step - loss: 0.2342 - acc: 0.9210 - val_loss: 0.2190 - val_acc: 0.9205\n",
            "\n",
            "Epoch 00002: val_loss improved from 0.23529 to 0.21900, saving model to /content/drive/My Drive/FaceRecognition/Malaria_weights-finetune-02-0.219.hdf5\n",
            "Epoch 3/50\n",
            "258/258 [==============================] - 221s 856ms/step - loss: 0.2232 - acc: 0.9256 - val_loss: 0.1924 - val_acc: 0.9330\n",
            "\n",
            "Epoch 00003: val_loss improved from 0.21900 to 0.19244, saving model to /content/drive/My Drive/FaceRecognition/Malaria_weights-finetune-03-0.192.hdf5\n",
            "Epoch 4/50\n",
            "258/258 [==============================] - 216s 836ms/step - loss: 0.2252 - acc: 0.9263 - val_loss: 0.2152 - val_acc: 0.9198\n",
            "\n",
            "Epoch 00004: val_loss did not improve from 0.19244\n",
            "Epoch 5/50\n",
            "258/258 [==============================] - 217s 840ms/step - loss: 0.2148 - acc: 0.9258 - val_loss: 0.1801 - val_acc: 0.9391\n",
            "\n",
            "Epoch 00005: val_loss improved from 0.19244 to 0.18014, saving model to /content/drive/My Drive/FaceRecognition/Malaria_weights-finetune-05-0.180.hdf5\n",
            "Epoch 6/50\n",
            "258/258 [==============================] - 217s 842ms/step - loss: 0.2008 - acc: 0.9308 - val_loss: 0.1765 - val_acc: 0.9363\n",
            "\n",
            "Epoch 00006: val_loss improved from 0.18014 to 0.17649, saving model to /content/drive/My Drive/FaceRecognition/Malaria_weights-finetune-06-0.176.hdf5\n",
            "Epoch 7/50\n",
            "258/258 [==============================] - 215s 833ms/step - loss: 0.2042 - acc: 0.9305 - val_loss: 0.1665 - val_acc: 0.9451\n",
            "\n",
            "Epoch 00007: val_loss improved from 0.17649 to 0.16652, saving model to /content/drive/My Drive/FaceRecognition/Malaria_weights-finetune-07-0.167.hdf5\n",
            "Epoch 8/50\n",
            "258/258 [==============================] - 214s 828ms/step - loss: 0.2025 - acc: 0.9311 - val_loss: 0.2496 - val_acc: 0.9079\n",
            "\n",
            "Epoch 00008: val_loss did not improve from 0.16652\n",
            "Epoch 9/50\n",
            "258/258 [==============================] - 213s 827ms/step - loss: 0.1928 - acc: 0.9336 - val_loss: 0.1589 - val_acc: 0.9468\n",
            "\n",
            "Epoch 00009: val_loss improved from 0.16652 to 0.15893, saving model to /content/drive/My Drive/FaceRecognition/Malaria_weights-finetune-09-0.159.hdf5\n",
            "Epoch 10/50\n",
            "258/258 [==============================] - 213s 825ms/step - loss: 0.1922 - acc: 0.9343 - val_loss: 0.1632 - val_acc: 0.9420\n",
            "\n",
            "Epoch 00010: val_loss did not improve from 0.15893\n",
            "Epoch 11/50\n",
            "258/258 [==============================] - 211s 819ms/step - loss: 0.1898 - acc: 0.9333 - val_loss: 0.1648 - val_acc: 0.9422\n",
            "\n",
            "Epoch 00011: val_loss did not improve from 0.15893\n",
            "Epoch 12/50\n",
            "258/258 [==============================] - 210s 815ms/step - loss: 0.1901 - acc: 0.9350 - val_loss: 0.1603 - val_acc: 0.9425\n",
            "\n",
            "Epoch 00012: val_loss did not improve from 0.15893\n",
            "Epoch 13/50\n",
            "258/258 [==============================] - 208s 805ms/step - loss: 0.1864 - acc: 0.9353 - val_loss: 0.1683 - val_acc: 0.9409\n",
            "\n",
            "Epoch 00013: val_loss did not improve from 0.15893\n",
            "Epoch 14/50\n",
            "258/258 [==============================] - 209s 808ms/step - loss: 0.1774 - acc: 0.9388 - val_loss: 0.1579 - val_acc: 0.9468\n",
            "\n",
            "Epoch 00014: val_loss improved from 0.15893 to 0.15787, saving model to /content/drive/My Drive/FaceRecognition/Malaria_weights-finetune-14-0.158.hdf5\n",
            "Epoch 15/50\n",
            "258/258 [==============================] - 208s 807ms/step - loss: 0.1861 - acc: 0.9339 - val_loss: 0.1726 - val_acc: 0.9378\n",
            "\n",
            "Epoch 00015: val_loss did not improve from 0.15787\n",
            "Epoch 16/50\n",
            "258/258 [==============================] - 207s 804ms/step - loss: 0.1803 - acc: 0.9377 - val_loss: 0.1491 - val_acc: 0.9418\n",
            "\n",
            "Epoch 00016: val_loss improved from 0.15787 to 0.14911, saving model to /content/drive/My Drive/FaceRecognition/Malaria_weights-finetune-16-0.149.hdf5\n",
            "Epoch 17/50\n",
            "258/258 [==============================] - 207s 804ms/step - loss: 0.1748 - acc: 0.9393 - val_loss: 0.1632 - val_acc: 0.9451\n",
            "\n",
            "Epoch 00017: val_loss did not improve from 0.14911\n",
            "Epoch 18/50\n",
            "258/258 [==============================] - 207s 804ms/step - loss: 0.1779 - acc: 0.9390 - val_loss: 0.1616 - val_acc: 0.9413\n",
            "\n",
            "Epoch 00018: val_loss did not improve from 0.14911\n",
            "Epoch 19/50\n",
            "258/258 [==============================] - 206s 800ms/step - loss: 0.1834 - acc: 0.9357 - val_loss: 0.1666 - val_acc: 0.9460\n",
            "\n",
            "Epoch 00019: val_loss did not improve from 0.14911\n",
            "Epoch 20/50\n",
            "258/258 [==============================] - 207s 802ms/step - loss: 0.1754 - acc: 0.9382 - val_loss: 0.1574 - val_acc: 0.9442\n",
            "\n",
            "Epoch 00020: val_loss did not improve from 0.14911\n",
            "Epoch 21/50\n",
            "258/258 [==============================] - 207s 803ms/step - loss: 0.1777 - acc: 0.9398 - val_loss: 0.1752 - val_acc: 0.9448\n",
            "\n",
            "Epoch 00021: val_loss did not improve from 0.14911\n",
            "Epoch 22/50\n",
            "258/258 [==============================] - 206s 800ms/step - loss: 0.1789 - acc: 0.9371 - val_loss: 0.1638 - val_acc: 0.9462\n",
            "\n",
            "Epoch 00022: val_loss did not improve from 0.14911\n"
          ],
          "name": "stdout"
        }
      ]
    },
    {
      "cell_type": "code",
      "metadata": {
        "id": "x0p2k3bKmu3M",
        "colab_type": "code",
        "outputId": "f9964dc2-028b-4282-ed74-38d31548449d",
        "colab": {
          "base_uri": "https://localhost:8080/",
          "height": 55
        }
      },
      "source": [
        "print(plt.style.available)"
      ],
      "execution_count": 0,
      "outputs": [
        {
          "output_type": "stream",
          "text": [
            "['seaborn-paper', 'tableau-colorblind10', 'seaborn-white', 'dark_background', 'seaborn-bright', 'seaborn-ticks', 'seaborn-talk', 'seaborn-colorblind', 'seaborn-darkgrid', 'fivethirtyeight', 'Solarize_Light2', 'seaborn-dark-palette', 'seaborn-deep', 'classic', '_classic_test', 'seaborn-notebook', 'bmh', 'seaborn-muted', 'fast', 'grayscale', 'seaborn-pastel', 'seaborn-poster', 'ggplot', 'seaborn', 'seaborn-dark', 'seaborn-whitegrid']\n"
          ],
          "name": "stdout"
        }
      ]
    },
    {
      "cell_type": "code",
      "metadata": {
        "id": "WRCpXr3vCgIt",
        "colab_type": "code",
        "outputId": "50c26a60-2ada-4177-eaa2-294608897554",
        "colab": {
          "base_uri": "https://localhost:8080/",
          "height": 721
        }
      },
      "source": [
        "plot_LearningCurve(history)\n",
        "plt.style.use('seaborn-bright')"
      ],
      "execution_count": 0,
      "outputs": [
        {
          "output_type": "display_data",
          "data": {
            "image/png": "[encoded data removed]",
            "text/plain": [
              "<Figure size 512x352 with 1 Axes>"
            ]
          },
          "metadata": {
            "tags": []
          }
        },
        {
          "output_type": "display_data",
          "data": {
            "image/png": "[encoded data removed]",
            "text/plain": [
              "<Figure size 512x352 with 1 Axes>"
            ]
          },
          "metadata": {
            "tags": []
          }
        }
      ]
    },
    {
      "cell_type": "markdown",
      "metadata": {
        "id": "Fi4Ht1-Eqr8h",
        "colab_type": "text"
      },
      "source": [
        "# Testing"
      ]
    },
    {
      "cell_type": "code",
      "metadata": {
        "colab_type": "code",
        "id": "z3TqkWf3niZE",
        "outputId": "ac27976c-84a5-44ea-e87e-f9c9b46ac212",
        "colab": {
          "base_uri": "https://localhost:8080/",
          "height": 35
        }
      },
      "source": [
        "test_eval=new_model.evaluate_generator(test_gen,n_test//batch_size+1)\n",
        "test_eval"
      ],
      "execution_count": 0,
      "outputs": [
        {
          "output_type": "execute_result",
          "data": {
            "text/plain": [
              "[0.16398559071675095, 0.9531930333817126]"
            ]
          },
          "metadata": {
            "tags": []
          },
          "execution_count": 113
        }
      ]
    },
    {
      "cell_type": "markdown",
      "metadata": {
        "id": "eE38fnPd0pBT",
        "colab_type": "text"
      },
      "source": [
        "**Test Accuracy**: 95.32%\n",
        "\n",
        "**Test Loss**: 0.164"
      ]
    },
    {
      "cell_type": "code",
      "metadata": {
        "id": "eVgcZJ_G08Fc",
        "colab_type": "code",
        "colab": {}
      },
      "source": [
        ""
      ],
      "execution_count": 0,
      "outputs": []
    }
  ]
}